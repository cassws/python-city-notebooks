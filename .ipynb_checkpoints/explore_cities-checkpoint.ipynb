{
 "cells": [
  {
   "cell_type": "code",
   "execution_count": 3,
   "metadata": {
    "collapsed": true
   },
   "outputs": [],
   "source": [
    "import requests\n",
    "import pandas as pd\n",
    "import matplotlib.pyplot as plt"
   ]
  },
  {
   "cell_type": "code",
   "execution_count": 4,
   "metadata": {
    "collapsed": true
   },
   "outputs": [],
   "source": [
    "# cities = [('Seattle', 'WA', 'http://data.seattle.gov/data.json')]\n",
    "cities = [('Austin', 'TX', 'https://data.austintexas.gov/data.json', 1855),\n",
    "('San Francisco', 'CA', 'https://data.sfgov.org/data.json', 1845),\n",
    "('Las Vegas', 'NV', 'https://opendata.lasvegasnevada.gov/data.json', 1830),\n",
    "('New York', 'NY', 'https://data.cityofnewyork.us/data.json', 1740),\n",
    "('Los Angeles', 'CA', 'https://data.lacity.org/data.json', 1710),\n",
    "('Chicago', 'IL', 'https://data.cityofchicago.org/data.json', 1655),\n",
    "('Philadelphia', 'PA', 'https://www.opendataphilly.org/data.json', 1595),\n",
    "('Santa Monica', 'CA', 'https://data.smgov.net/data.json', 1560),\n",
    "('San Diego', 'CA', 'https://data.sandiego.gov/data.json', 1550),\n",
    "('Anchorage', 'AK', 'https://data.muni.org/data.json', 1430),\n",
    "('Baton Rouge', 'LA', 'https://data.brla.gov/data.json', 1425),\n",
    "('Seattle', 'WA', 'http://data.seattle.gov/data.json', 1410),\n",
    "('Boston', 'MA', 'https://data.boston.gov/data.json', 1390),\n",
    "('Sacramento', 'CA', 'https://data.cityofsacramento.org/data.json', 1385),\n",
    "('Providence', 'RI', 'https://data.providenceri.gov/data.json', 1380)]\n"
   ]
  },
  {
   "cell_type": "code",
   "execution_count": null,
   "metadata": {
    "collapsed": true
   },
   "outputs": [],
   "source": [
    "city_output = {}"
   ]
  },
  {
   "cell_type": "code",
   "execution_count": null,
   "metadata": {},
   "outputs": [
    {
     "name": "stdout",
     "output_type": "stream",
     "text": [
      "dict_keys(['@context', '@id', '@type', 'conformsTo', 'describedBy', 'dataset'])\n",
      "Info on Austin, TX\n",
      "Number of datasets = 1300\n",
      "dict_keys(['@context', '@id', '@type', 'conformsTo', 'describedBy', 'dataset'])\n",
      "Info on San Francisco, CA\n",
      "Number of datasets = 534\n",
      "dict_keys(['@context', '@id', '@type', 'conformsTo', 'describedBy', 'dataset'])\n",
      "Info on Las Vegas, NV\n",
      "Number of datasets = 225\n",
      "dict_keys(['@context', '@id', '@type', 'conformsTo', 'describedBy', 'dataset'])\n",
      "Info on New York, NY\n",
      "Number of datasets = 2026\n",
      "dict_keys(['@context', '@id', '@type', 'conformsTo', 'describedBy', 'dataset'])\n",
      "Info on Los Angeles, CA\n",
      "Number of datasets = 304\n",
      "dict_keys(['@context', '@id', '@type', 'conformsTo', 'describedBy', 'dataset'])\n",
      "Info on Chicago, IL\n",
      "Number of datasets = 736\n",
      "dict_keys(['conformsTo', 'describedBy', '@context', '@type', 'dataset'])\n",
      "Info on Philadelphia, PA\n",
      "Number of datasets = 362\n",
      "dict_keys(['@context', '@id', '@type', 'conformsTo', 'describedBy', 'dataset'])\n",
      "Info on Santa Monica, CA\n",
      "Number of datasets = 42\n",
      "dict_keys(['conformsTo', '@context', '@id', '@type', 'describedBy', 'dataset'])\n",
      "Info on San Diego, CA\n",
      "Number of datasets = 79\n",
      "dict_keys(['@context', '@id', '@type', 'conformsTo', 'describedBy', 'dataset'])\n",
      "Info on Anchorage, AK\n",
      "Number of datasets = 31\n",
      "dict_keys(['@context', '@id', '@type', 'conformsTo', 'describedBy', 'dataset'])\n",
      "Info on Baton Rouge, LA\n",
      "Number of datasets = 63\n"
     ]
    }
   ],
   "source": [
    "for current_city in cities:\n",
    "    city, state, url, rating = current_city\n",
    "    r = requests.get(url=url)\n",
    "    data = r.json()\n",
    "    print(data.keys())\n",
    "    number_of_datasets = len(data['dataset'])\n",
    "    print(\"Info on {}, {}\".format(city, state))\n",
    "    print(\"Number of datasets = {}\".format(number_of_datasets))\n",
    "\n",
    "    # tally counts of keywords and themes\n",
    "    keyword_counts = {}\n",
    "    theme_counts = {}\n",
    "\n",
    "    for dataset in data['dataset']:\n",
    "        keywords = dataset.get('keyword')\n",
    "        themes = dataset.get('theme')\n",
    "\n",
    "        if keywords:\n",
    "            for k in keywords:\n",
    "                if k not in keyword_counts:\n",
    "                    keyword_counts[k] = 1\n",
    "                else:\n",
    "                    keyword_counts[k] +=1\n",
    "\n",
    "        if themes:\n",
    "            for t in themes:\n",
    "                if t not in theme_counts:\n",
    "                    theme_counts[t] = 1\n",
    "                else:\n",
    "                    theme_counts[t] +=1\n",
    "\n",
    "\n",
    "    sorted_keywords = sorted(keyword_counts.items(), key=lambda x: x[1], reverse=True)\n",
    "\n",
    "    sorted_themes = sorted(theme_counts.items(), key=lambda x: x[1], reverse=True)\n",
    "\n",
    "    name_phrase = \"{}, {}\".format(city, state)\n",
    "    city_output[name_phrase] = {'datasets': number_of_datasets,\n",
    "                                'keywords' : sorted_keywords,\n",
    "                                'themes' : sorted_themes,\n",
    "                               'rating' : rating}"
   ]
  },
  {
   "cell_type": "code",
   "execution_count": null,
   "metadata": {},
   "outputs": [],
   "source": [
    "print(len(city_output))"
   ]
  },
  {
   "cell_type": "code",
   "execution_count": null,
   "metadata": {
    "collapsed": true
   },
   "outputs": [],
   "source": [
    "cities = city_output.keys()"
   ]
  },
  {
   "cell_type": "code",
   "execution_count": null,
   "metadata": {
    "collapsed": true
   },
   "outputs": [],
   "source": [
    "cities_and_datasets = [(c, city_output[c]['datasets']) for c in cities]\n",
    "labels = ['city', 'datasets']"
   ]
  },
  {
   "cell_type": "code",
   "execution_count": null,
   "metadata": {
    "collapsed": true
   },
   "outputs": [],
   "source": [
    "df = pd.DataFrame.from_records(cities_and_datasets, columns=labels)"
   ]
  },
  {
   "cell_type": "code",
   "execution_count": null,
   "metadata": {
    "collapsed": true
   },
   "outputs": [],
   "source": [
    "import seaborn as sns"
   ]
  },
  {
   "cell_type": "code",
   "execution_count": null,
   "metadata": {},
   "outputs": [],
   "source": [
    "sns.set(style=\"darkgrid\")\n",
    "plt.figure(figsize=(16, 10))\n",
    "sns.set_context(\"notebook\", font_scale=1.4, rc={\"lines.linewidth\": 2.5})\n",
    "ax = sns.barplot(x='city', y='datasets', data=df, palette=\"GnBu_d\")\n",
    "ax.set_xticklabels(ax.get_xticklabels(), rotation=40, ha=\"right\")"
   ]
  },
  {
   "cell_type": "code",
   "execution_count": null,
   "metadata": {},
   "outputs": [],
   "source": [
    "plt.tight_layout()\n",
    "plt.show()"
   ]
  },
  {
   "cell_type": "code",
   "execution_count": null,
   "metadata": {
    "collapsed": true
   },
   "outputs": [],
   "source": [
    "k_labels = ['keyword', 'count']"
   ]
  },
  {
   "cell_type": "code",
   "execution_count": null,
   "metadata": {
    "collapsed": true
   },
   "outputs": [],
   "source": [
    "df_seattle_keys = pd.DataFrame.from_records(city_output['Seattle, WA']['keywords'], columns=k_labels)"
   ]
  },
  {
   "cell_type": "code",
   "execution_count": null,
   "metadata": {},
   "outputs": [],
   "source": [
    "sns.set(style=\"darkgrid\")\n",
    "plt.figure(figsize=(16, 16))\n",
    "sns.set_context(\"notebook\", font_scale=1.5, rc={\"lines.linewidth\": 2.5})\n",
    "ax = sns.barplot(y='keyword', x='count', data=df_seattle_keys[0:30], palette=\"GnBu_d\")\n",
    "# ax.set_xticklabels(ax.get_xticklabels(), rotation=40, ha=\"right\")"
   ]
  },
  {
   "cell_type": "code",
   "execution_count": null,
   "metadata": {},
   "outputs": [],
   "source": [
    "plt.show()"
   ]
  },
  {
   "cell_type": "code",
   "execution_count": null,
   "metadata": {
    "collapsed": true
   },
   "outputs": [],
   "source": [
    "df_austin_keys = pd.DataFrame.from_records(city_output['Austin, TX']['keywords'], columns=k_labels)"
   ]
  },
  {
   "cell_type": "code",
   "execution_count": null,
   "metadata": {
    "collapsed": true
   },
   "outputs": [],
   "source": [
    "sns.set(style=\"darkgrid\")\n",
    "plt.figure(figsize=(16, 16))\n",
    "sns.set_context(\"notebook\", font_scale=1.4, rc={\"lines.linewidth\": 2.5})\n",
    "ax = sns.barplot(y='keyword', x='count', data=df_austin_keys[0:30], palette=\"GnBu_d\")\n",
    "# ax.set_xticklabels(ax.get_xticklabels(),rotation=45,ha=\"right\",rotation_mode='anchor')\n",
    "\n",
    "# sns.plotting_context(font_scale=2)\n",
    "# plt.xticks(rotation=66)"
   ]
  },
  {
   "cell_type": "code",
   "execution_count": null,
   "metadata": {},
   "outputs": [],
   "source": [
    "plt.show()"
   ]
  },
  {
   "cell_type": "code",
   "execution_count": null,
   "metadata": {
    "collapsed": true
   },
   "outputs": [],
   "source": [
    "df_lv_keys = pd.DataFrame.from_records(city_output['Las Vegas, NV']['keywords'], columns=k_labels)"
   ]
  },
  {
   "cell_type": "code",
   "execution_count": null,
   "metadata": {
    "collapsed": true
   },
   "outputs": [],
   "source": [
    "sns.set(style=\"darkgrid\")\n",
    "plt.figure(figsize=(16, 16))\n",
    "sns.set_context(\"notebook\", font_scale=1.4, rc={\"lines.linewidth\": 2.5})\n",
    "ax = sns.barplot(y='keyword', x='count', data=df_lv_keys[0:30], palette=\"GnBu_d\")\n",
    "# ax.set_xticklabels(ax.get_xticklabels(),rotation=45,ha=\"right\",rotation_mode='anchor')\n",
    "\n",
    "# sns.plotting_context(font_scale=2)\n",
    "# plt.xticks(rotation=66)"
   ]
  },
  {
   "cell_type": "code",
   "execution_count": null,
   "metadata": {},
   "outputs": [],
   "source": [
    "plt.show()"
   ]
  },
  {
   "cell_type": "code",
   "execution_count": null,
   "metadata": {
    "collapsed": true
   },
   "outputs": [],
   "source": [
    "df_prov_keys = pd.DataFrame.from_records(city_output['Providence, RI']['keywords'], columns=k_labels)"
   ]
  },
  {
   "cell_type": "code",
   "execution_count": null,
   "metadata": {
    "collapsed": true
   },
   "outputs": [],
   "source": [
    "sns.set(style=\"darkgrid\")\n",
    "plt.figure(figsize=(16, 16))\n",
    "sns.set_context(\"notebook\", font_scale=1.4, rc={\"lines.linewidth\": 2.5})\n",
    "ax = sns.barplot(y='keyword', x='count', data=df_prov_keys[0:30], palette=\"GnBu_d\")\n",
    "# ax.set_xticklabels(ax.get_xticklabels(),rotation=45,ha=\"right\",rotation_mode='anchor')\n",
    "\n",
    "# sns.plotting_context(font_scale=2)\n",
    "# plt.xticks(rotation=66)"
   ]
  },
  {
   "cell_type": "code",
   "execution_count": null,
   "metadata": {},
   "outputs": [],
   "source": [
    "plt.show()"
   ]
  },
  {
   "cell_type": "code",
   "execution_count": null,
   "metadata": {
    "collapsed": true
   },
   "outputs": [],
   "source": []
  }
 ],
 "metadata": {
  "kernelspec": {
   "display_name": "Python 3",
   "language": "python",
   "name": "python3"
  },
  "language_info": {
   "codemirror_mode": {
    "name": "ipython",
    "version": 3
   },
   "file_extension": ".py",
   "mimetype": "text/x-python",
   "name": "python",
   "nbconvert_exporter": "python",
   "pygments_lexer": "ipython3",
   "version": "3.6.3"
  }
 },
 "nbformat": 4,
 "nbformat_minor": 2
}
